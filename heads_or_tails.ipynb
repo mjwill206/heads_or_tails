{
 "cells": [
  {
   "cell_type": "markdown",
   "metadata": {},
   "source": [
    "# Day 4.1: Heads or Tails?\n",
    "A simple coin toss game - predict whether the \"coin\" will land on heads or tails."
   ]
  },
  {
   "cell_type": "code",
   "execution_count": null,
   "metadata": {},
   "outputs": [],
   "source": [
    "import numpy as np\n",
    "\n",
    "choice = input(\"Type \\\"heads\\\" or \\\"tails\\\".\\n\")\n",
    "\n",
    "flip = np.random.choice([\"heads\", \"tails\"], 1)\n",
    "\n",
    "print()\n",
    "print(f'You chose {choice}.')\n",
    "print()\n",
    "print(f'The coin landed {flip[0]}.')\n",
    "print()\n",
    "\n",
    "if choice == flip:\n",
    "    print(f'You win!')\n",
    "else:\n",
    "    print(f'You lose!')"
   ]
  }
 ],
 "metadata": {
  "kernelspec": {
   "display_name": "Python 3",
   "language": "python",
   "name": "python3"
  },
  "language_info": {
   "codemirror_mode": {
    "name": "ipython",
    "version": 3
   },
   "file_extension": ".py",
   "mimetype": "text/x-python",
   "name": "python",
   "nbconvert_exporter": "python",
   "pygments_lexer": "ipython3",
   "version": "3.7.6"
  }
 },
 "nbformat": 4,
 "nbformat_minor": 4
}
